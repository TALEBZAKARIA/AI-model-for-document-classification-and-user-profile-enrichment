{
 "cells": [
  {
   "cell_type": "markdown",
   "id": "f9791737",
   "metadata": {},
   "source": [
    "# <font color='red'>Documents classification</font>"
   ]
  },
  {
   "cell_type": "markdown",
   "id": "6d981586",
   "metadata": {},
   "source": [
    "# Lecture d'un documents"
   ]
  },
  {
   "cell_type": "code",
   "execution_count": 5,
   "id": "3b55493d",
   "metadata": {},
   "outputs": [
    {
     "name": "stderr",
     "output_type": "stream",
     "text": [
      "[nltk_data] Downloading package stopwords to\n",
      "[nltk_data]     C:\\Users\\TALEBZAKARIA\\AppData\\Roaming\\nltk_data...\n",
      "[nltk_data]   Package stopwords is already up-to-date!\n",
      "[nltk_data] Downloading package punkt to\n",
      "[nltk_data]     C:\\Users\\TALEBZAKARIA\\AppData\\Roaming\\nltk_data...\n",
      "[nltk_data]   Package punkt is already up-to-date!\n"
     ]
    }
   ],
   "source": [
    "from nltk.corpus import stopwords\n",
    "import nltk\n",
    "nltk.download('stopwords')\n",
    "nltk.download('punkt')\n",
    "stop_words = stopwords.words('english')\n",
    "prt = nltk.stem.PorterStemmer()\n",
    "\n",
    "def preprocess(document_path):\n",
    "    \n",
    "    with open(document_path, 'r', encoding=\"utf8\") as file:\n",
    "        document = file.read()\n",
    "    \n",
    "    tokens = nltk.word_tokenize(document)\n",
    "\n",
    "    tokens_pun_lower = [i.lower() for i in tokens if i.isalnum()]\n",
    "\n",
    "    tokens_stop = [i for i in tokens_pun_lower if i not in stop_words]\n",
    "\n",
    "    terms = [prt.stem(i) for i in tokens_stop]\n",
    "    \n",
    "    return \" \".join(terms)"
   ]
  },
  {
   "cell_type": "markdown",
   "id": "1fcf8033",
   "metadata": {},
   "source": [
    "# Récupération du data set"
   ]
  },
  {
   "cell_type": "code",
   "execution_count": 7,
   "id": "e8078fbe",
   "metadata": {
    "scrolled": true
   },
   "outputs": [
    {
     "data": {
      "text/html": [
       "<div>\n",
       "<style scoped>\n",
       "    .dataframe tbody tr th:only-of-type {\n",
       "        vertical-align: middle;\n",
       "    }\n",
       "\n",
       "    .dataframe tbody tr th {\n",
       "        vertical-align: top;\n",
       "    }\n",
       "\n",
       "    .dataframe thead th {\n",
       "        text-align: right;\n",
       "    }\n",
       "</style>\n",
       "<table border=\"1\" class=\"dataframe\">\n",
       "  <thead>\n",
       "    <tr style=\"text-align: right;\">\n",
       "      <th></th>\n",
       "      <th>Title</th>\n",
       "      <th>Document</th>\n",
       "      <th>Class</th>\n",
       "    </tr>\n",
       "  </thead>\n",
       "  <tbody>\n",
       "    <tr>\n",
       "      <th>0</th>\n",
       "      <td>business_1.txt</td>\n",
       "      <td>lufthansa fli back profit german airlin luftha...</td>\n",
       "      <td>business</td>\n",
       "    </tr>\n",
       "    <tr>\n",
       "      <th>1</th>\n",
       "      <td>business_10.txt</td>\n",
       "      <td>file bankruptci us supermarket group file bank...</td>\n",
       "      <td>business</td>\n",
       "    </tr>\n",
       "    <tr>\n",
       "      <th>2</th>\n",
       "      <td>business_100.txt</td>\n",
       "      <td>us economi still grow say fed area us saw econ...</td>\n",
       "      <td>business</td>\n",
       "    </tr>\n",
       "    <tr>\n",
       "      <th>3</th>\n",
       "      <td>business_11.txt</td>\n",
       "      <td>saab build cadillac sweden gener motor world l...</td>\n",
       "      <td>business</td>\n",
       "    </tr>\n",
       "    <tr>\n",
       "      <th>4</th>\n",
       "      <td>business_12.txt</td>\n",
       "      <td>bank vote rate chang decis keep interest rate ...</td>\n",
       "      <td>business</td>\n",
       "    </tr>\n",
       "    <tr>\n",
       "      <th>...</th>\n",
       "      <td>...</td>\n",
       "      <td>...</td>\n",
       "      <td>...</td>\n",
       "    </tr>\n",
       "    <tr>\n",
       "      <th>995</th>\n",
       "      <td>technologie_95.txt</td>\n",
       "      <td>mobil game come age bbc news websit take look ...</td>\n",
       "      <td>technologie</td>\n",
       "    </tr>\n",
       "    <tr>\n",
       "      <th>996</th>\n",
       "      <td>technologie_96.txt</td>\n",
       "      <td>california set fine spywar maker comput progra...</td>\n",
       "      <td>technologie</td>\n",
       "    </tr>\n",
       "    <tr>\n",
       "      <th>997</th>\n",
       "      <td>technologie_97.txt</td>\n",
       "      <td>web help collect aid donat web help aid agenc ...</td>\n",
       "      <td>technologie</td>\n",
       "    </tr>\n",
       "    <tr>\n",
       "      <th>998</th>\n",
       "      <td>technologie_98.txt</td>\n",
       "      <td>mobil rack 20 year use mobil phone uk celebr 2...</td>\n",
       "      <td>technologie</td>\n",
       "    </tr>\n",
       "    <tr>\n",
       "      <th>999</th>\n",
       "      <td>technologie_99.txt</td>\n",
       "      <td>blog take mainstream web log blog everywher le...</td>\n",
       "      <td>technologie</td>\n",
       "    </tr>\n",
       "  </tbody>\n",
       "</table>\n",
       "<p>1000 rows × 3 columns</p>\n",
       "</div>"
      ],
      "text/plain": [
       "                  Title                                           Document  \\\n",
       "0        business_1.txt  lufthansa fli back profit german airlin luftha...   \n",
       "1       business_10.txt  file bankruptci us supermarket group file bank...   \n",
       "2      business_100.txt  us economi still grow say fed area us saw econ...   \n",
       "3       business_11.txt  saab build cadillac sweden gener motor world l...   \n",
       "4       business_12.txt  bank vote rate chang decis keep interest rate ...   \n",
       "..                  ...                                                ...   \n",
       "995  technologie_95.txt  mobil game come age bbc news websit take look ...   \n",
       "996  technologie_96.txt  california set fine spywar maker comput progra...   \n",
       "997  technologie_97.txt  web help collect aid donat web help aid agenc ...   \n",
       "998  technologie_98.txt  mobil rack 20 year use mobil phone uk celebr 2...   \n",
       "999  technologie_99.txt  blog take mainstream web log blog everywher le...   \n",
       "\n",
       "           Class  \n",
       "0       business  \n",
       "1       business  \n",
       "2       business  \n",
       "3       business  \n",
       "4       business  \n",
       "..           ...  \n",
       "995  technologie  \n",
       "996  technologie  \n",
       "997  technologie  \n",
       "998  technologie  \n",
       "999  technologie  \n",
       "\n",
       "[1000 rows x 3 columns]"
      ]
     },
     "execution_count": 7,
     "metadata": {},
     "output_type": "execute_result"
    }
   ],
   "source": [
    "import numpy as np\n",
    "import pandas as pd \n",
    "\n",
    "\n",
    "Data = []\n",
    "import os\n",
    "for dirname, _, filenames in os.walk('dataset/'):\n",
    "    for filename in filenames:\n",
    "        doc_class = filename.split('_')[0].lower()\n",
    "        doc_titles = filename\n",
    "        documents = preprocess(os.path.join(dirname, filename))\n",
    "        \n",
    "        Data.append([doc_titles, documents, doc_class])\n",
    "\n",
    "df = pd.DataFrame (Data, columns = ['Title', 'Document', 'Class'])\n",
    "df"
   ]
  },
  {
   "cell_type": "markdown",
   "id": "3057017a",
   "metadata": {},
   "source": [
    "# Les informations des données"
   ]
  },
  {
   "cell_type": "code",
   "execution_count": 8,
   "id": "3eb599bf",
   "metadata": {},
   "outputs": [
    {
     "name": "stdout",
     "output_type": "stream",
     "text": [
      "<class 'pandas.core.frame.DataFrame'>\n",
      "RangeIndex: 1000 entries, 0 to 999\n",
      "Data columns (total 3 columns):\n",
      " #   Column    Non-Null Count  Dtype \n",
      "---  ------    --------------  ----- \n",
      " 0   Title     1000 non-null   object\n",
      " 1   Document  1000 non-null   object\n",
      " 2   Class     1000 non-null   object\n",
      "dtypes: object(3)\n",
      "memory usage: 23.6+ KB\n"
     ]
    }
   ],
   "source": [
    "df.info()"
   ]
  },
  {
   "cell_type": "markdown",
   "id": "678d24d9",
   "metadata": {},
   "source": [
    "# Présentation numérique des classes "
   ]
  },
  {
   "cell_type": "code",
   "execution_count": 9,
   "id": "84209455",
   "metadata": {},
   "outputs": [
    {
     "data": {
      "text/plain": [
       "array(['business', 'entertainment', 'food', 'graphics', 'historical',\n",
       "       'medical', 'politics', 'space', 'sport', 'technologie'],\n",
       "      dtype=object)"
      ]
     },
     "execution_count": 9,
     "metadata": {},
     "output_type": "execute_result"
    }
   ],
   "source": [
    "classesList = df['Class'].unique()\n",
    "classesList"
   ]
  },
  {
   "cell_type": "code",
   "execution_count": 10,
   "id": "6c5380ee",
   "metadata": {
    "scrolled": false
   },
   "outputs": [
    {
     "data": {
      "text/html": [
       "<div>\n",
       "<style scoped>\n",
       "    .dataframe tbody tr th:only-of-type {\n",
       "        vertical-align: middle;\n",
       "    }\n",
       "\n",
       "    .dataframe tbody tr th {\n",
       "        vertical-align: top;\n",
       "    }\n",
       "\n",
       "    .dataframe thead th {\n",
       "        text-align: right;\n",
       "    }\n",
       "</style>\n",
       "<table border=\"1\" class=\"dataframe\">\n",
       "  <thead>\n",
       "    <tr style=\"text-align: right;\">\n",
       "      <th></th>\n",
       "      <th>Title</th>\n",
       "      <th>Document</th>\n",
       "      <th>Class</th>\n",
       "    </tr>\n",
       "  </thead>\n",
       "  <tbody>\n",
       "    <tr>\n",
       "      <th>0</th>\n",
       "      <td>business_1.txt</td>\n",
       "      <td>lufthansa fli back profit german airlin luftha...</td>\n",
       "      <td>0</td>\n",
       "    </tr>\n",
       "    <tr>\n",
       "      <th>1</th>\n",
       "      <td>business_10.txt</td>\n",
       "      <td>file bankruptci us supermarket group file bank...</td>\n",
       "      <td>0</td>\n",
       "    </tr>\n",
       "    <tr>\n",
       "      <th>2</th>\n",
       "      <td>business_100.txt</td>\n",
       "      <td>us economi still grow say fed area us saw econ...</td>\n",
       "      <td>0</td>\n",
       "    </tr>\n",
       "    <tr>\n",
       "      <th>3</th>\n",
       "      <td>business_11.txt</td>\n",
       "      <td>saab build cadillac sweden gener motor world l...</td>\n",
       "      <td>0</td>\n",
       "    </tr>\n",
       "    <tr>\n",
       "      <th>4</th>\n",
       "      <td>business_12.txt</td>\n",
       "      <td>bank vote rate chang decis keep interest rate ...</td>\n",
       "      <td>0</td>\n",
       "    </tr>\n",
       "    <tr>\n",
       "      <th>...</th>\n",
       "      <td>...</td>\n",
       "      <td>...</td>\n",
       "      <td>...</td>\n",
       "    </tr>\n",
       "    <tr>\n",
       "      <th>995</th>\n",
       "      <td>technologie_95.txt</td>\n",
       "      <td>mobil game come age bbc news websit take look ...</td>\n",
       "      <td>9</td>\n",
       "    </tr>\n",
       "    <tr>\n",
       "      <th>996</th>\n",
       "      <td>technologie_96.txt</td>\n",
       "      <td>california set fine spywar maker comput progra...</td>\n",
       "      <td>9</td>\n",
       "    </tr>\n",
       "    <tr>\n",
       "      <th>997</th>\n",
       "      <td>technologie_97.txt</td>\n",
       "      <td>web help collect aid donat web help aid agenc ...</td>\n",
       "      <td>9</td>\n",
       "    </tr>\n",
       "    <tr>\n",
       "      <th>998</th>\n",
       "      <td>technologie_98.txt</td>\n",
       "      <td>mobil rack 20 year use mobil phone uk celebr 2...</td>\n",
       "      <td>9</td>\n",
       "    </tr>\n",
       "    <tr>\n",
       "      <th>999</th>\n",
       "      <td>technologie_99.txt</td>\n",
       "      <td>blog take mainstream web log blog everywher le...</td>\n",
       "      <td>9</td>\n",
       "    </tr>\n",
       "  </tbody>\n",
       "</table>\n",
       "<p>1000 rows × 3 columns</p>\n",
       "</div>"
      ],
      "text/plain": [
       "                  Title                                           Document  \\\n",
       "0        business_1.txt  lufthansa fli back profit german airlin luftha...   \n",
       "1       business_10.txt  file bankruptci us supermarket group file bank...   \n",
       "2      business_100.txt  us economi still grow say fed area us saw econ...   \n",
       "3       business_11.txt  saab build cadillac sweden gener motor world l...   \n",
       "4       business_12.txt  bank vote rate chang decis keep interest rate ...   \n",
       "..                  ...                                                ...   \n",
       "995  technologie_95.txt  mobil game come age bbc news websit take look ...   \n",
       "996  technologie_96.txt  california set fine spywar maker comput progra...   \n",
       "997  technologie_97.txt  web help collect aid donat web help aid agenc ...   \n",
       "998  technologie_98.txt  mobil rack 20 year use mobil phone uk celebr 2...   \n",
       "999  technologie_99.txt  blog take mainstream web log blog everywher le...   \n",
       "\n",
       "     Class  \n",
       "0        0  \n",
       "1        0  \n",
       "2        0  \n",
       "3        0  \n",
       "4        0  \n",
       "..     ...  \n",
       "995      9  \n",
       "996      9  \n",
       "997      9  \n",
       "998      9  \n",
       "999      9  \n",
       "\n",
       "[1000 rows x 3 columns]"
      ]
     },
     "execution_count": 10,
     "metadata": {},
     "output_type": "execute_result"
    }
   ],
   "source": [
    "df['Class'] = pd.factorize(df['Class'])[0]\n",
    "df"
   ]
  },
  {
   "cell_type": "code",
   "execution_count": 11,
   "id": "f1ed354c",
   "metadata": {},
   "outputs": [
    {
     "name": "stdout",
     "output_type": "stream",
     "text": [
      "<class 'pandas.core.frame.DataFrame'>\n",
      "RangeIndex: 1000 entries, 0 to 999\n",
      "Data columns (total 3 columns):\n",
      " #   Column    Non-Null Count  Dtype \n",
      "---  ------    --------------  ----- \n",
      " 0   Title     1000 non-null   object\n",
      " 1   Document  1000 non-null   object\n",
      " 2   Class     1000 non-null   int64 \n",
      "dtypes: int64(1), object(2)\n",
      "memory usage: 23.6+ KB\n"
     ]
    },
    {
     "data": {
      "text/html": [
       "<div>\n",
       "<style scoped>\n",
       "    .dataframe tbody tr th:only-of-type {\n",
       "        vertical-align: middle;\n",
       "    }\n",
       "\n",
       "    .dataframe tbody tr th {\n",
       "        vertical-align: top;\n",
       "    }\n",
       "\n",
       "    .dataframe thead th {\n",
       "        text-align: right;\n",
       "    }\n",
       "</style>\n",
       "<table border=\"1\" class=\"dataframe\">\n",
       "  <thead>\n",
       "    <tr style=\"text-align: right;\">\n",
       "      <th></th>\n",
       "      <th>Title</th>\n",
       "      <th>Document</th>\n",
       "    </tr>\n",
       "    <tr>\n",
       "      <th>Class</th>\n",
       "      <th></th>\n",
       "      <th></th>\n",
       "    </tr>\n",
       "  </thead>\n",
       "  <tbody>\n",
       "    <tr>\n",
       "      <th>0</th>\n",
       "      <td>100</td>\n",
       "      <td>100</td>\n",
       "    </tr>\n",
       "    <tr>\n",
       "      <th>1</th>\n",
       "      <td>100</td>\n",
       "      <td>100</td>\n",
       "    </tr>\n",
       "    <tr>\n",
       "      <th>2</th>\n",
       "      <td>100</td>\n",
       "      <td>100</td>\n",
       "    </tr>\n",
       "    <tr>\n",
       "      <th>3</th>\n",
       "      <td>100</td>\n",
       "      <td>100</td>\n",
       "    </tr>\n",
       "    <tr>\n",
       "      <th>4</th>\n",
       "      <td>100</td>\n",
       "      <td>100</td>\n",
       "    </tr>\n",
       "    <tr>\n",
       "      <th>5</th>\n",
       "      <td>100</td>\n",
       "      <td>100</td>\n",
       "    </tr>\n",
       "    <tr>\n",
       "      <th>6</th>\n",
       "      <td>100</td>\n",
       "      <td>100</td>\n",
       "    </tr>\n",
       "    <tr>\n",
       "      <th>7</th>\n",
       "      <td>100</td>\n",
       "      <td>100</td>\n",
       "    </tr>\n",
       "    <tr>\n",
       "      <th>8</th>\n",
       "      <td>100</td>\n",
       "      <td>100</td>\n",
       "    </tr>\n",
       "    <tr>\n",
       "      <th>9</th>\n",
       "      <td>100</td>\n",
       "      <td>100</td>\n",
       "    </tr>\n",
       "  </tbody>\n",
       "</table>\n",
       "</div>"
      ],
      "text/plain": [
       "       Title  Document\n",
       "Class                 \n",
       "0        100       100\n",
       "1        100       100\n",
       "2        100       100\n",
       "3        100       100\n",
       "4        100       100\n",
       "5        100       100\n",
       "6        100       100\n",
       "7        100       100\n",
       "8        100       100\n",
       "9        100       100"
      ]
     },
     "execution_count": 11,
     "metadata": {},
     "output_type": "execute_result"
    }
   ],
   "source": [
    "df.info()\n",
    "df.groupby('Class').count()"
   ]
  },
  {
   "cell_type": "code",
   "execution_count": 12,
   "id": "807e424a",
   "metadata": {},
   "outputs": [
    {
     "data": {
      "text/html": [
       "<div>\n",
       "<style scoped>\n",
       "    .dataframe tbody tr th:only-of-type {\n",
       "        vertical-align: middle;\n",
       "    }\n",
       "\n",
       "    .dataframe tbody tr th {\n",
       "        vertical-align: top;\n",
       "    }\n",
       "\n",
       "    .dataframe thead th {\n",
       "        text-align: right;\n",
       "    }\n",
       "</style>\n",
       "<table border=\"1\" class=\"dataframe\">\n",
       "  <thead>\n",
       "    <tr style=\"text-align: right;\">\n",
       "      <th></th>\n",
       "      <th>Title</th>\n",
       "      <th>Document</th>\n",
       "      <th>Class</th>\n",
       "    </tr>\n",
       "  </thead>\n",
       "  <tbody>\n",
       "    <tr>\n",
       "      <th>0</th>\n",
       "      <td>entertainment_66.txt</td>\n",
       "      <td>dirti den demis seen 14m 14 million peopl saw ...</td>\n",
       "      <td>1</td>\n",
       "    </tr>\n",
       "    <tr>\n",
       "      <th>1</th>\n",
       "      <td>entertainment_42.txt</td>\n",
       "      <td>three dj replac peel radio show late john peel...</td>\n",
       "      <td>1</td>\n",
       "    </tr>\n",
       "    <tr>\n",
       "      <th>2</th>\n",
       "      <td>medical_292.txt</td>\n",
       "      <td>anybodi know inform regard implementaion total...</td>\n",
       "      <td>5</td>\n",
       "    </tr>\n",
       "    <tr>\n",
       "      <th>3</th>\n",
       "      <td>technologie_70.txt</td>\n",
       "      <td>iphon se iphon x buy refurbish phone yet appl ...</td>\n",
       "      <td>9</td>\n",
       "    </tr>\n",
       "    <tr>\n",
       "      <th>4</th>\n",
       "      <td>entertainment_43.txt</td>\n",
       "      <td>youssou win music prize senegales musician you...</td>\n",
       "      <td>1</td>\n",
       "    </tr>\n",
       "    <tr>\n",
       "      <th>...</th>\n",
       "      <td>...</td>\n",
       "      <td>...</td>\n",
       "      <td>...</td>\n",
       "    </tr>\n",
       "    <tr>\n",
       "      <th>995</th>\n",
       "      <td>sport_82.txt</td>\n",
       "      <td>greek duo clear dope case sprinter kosta kente...</td>\n",
       "      <td>8</td>\n",
       "    </tr>\n",
       "    <tr>\n",
       "      <th>996</th>\n",
       "      <td>graphics_83.txt</td>\n",
       "      <td>7 best free tool allow creat profession graphi...</td>\n",
       "      <td>3</td>\n",
       "    </tr>\n",
       "    <tr>\n",
       "      <th>997</th>\n",
       "      <td>entertainment_86.txt</td>\n",
       "      <td>hundr vie best film oscar total 267 film elig ...</td>\n",
       "      <td>1</td>\n",
       "    </tr>\n",
       "    <tr>\n",
       "      <th>998</th>\n",
       "      <td>historical_8.txt</td>\n",
       "      <td>hitler secretli met japanes gener wwii tomoyuk...</td>\n",
       "      <td>4</td>\n",
       "    </tr>\n",
       "    <tr>\n",
       "      <th>999</th>\n",
       "      <td>graphics_2.txt</td>\n",
       "      <td>craft compel market strategi without hire desi...</td>\n",
       "      <td>3</td>\n",
       "    </tr>\n",
       "  </tbody>\n",
       "</table>\n",
       "<p>1000 rows × 3 columns</p>\n",
       "</div>"
      ],
      "text/plain": [
       "                    Title                                           Document  \\\n",
       "0    entertainment_66.txt  dirti den demis seen 14m 14 million peopl saw ...   \n",
       "1    entertainment_42.txt  three dj replac peel radio show late john peel...   \n",
       "2         medical_292.txt  anybodi know inform regard implementaion total...   \n",
       "3      technologie_70.txt  iphon se iphon x buy refurbish phone yet appl ...   \n",
       "4    entertainment_43.txt  youssou win music prize senegales musician you...   \n",
       "..                    ...                                                ...   \n",
       "995          sport_82.txt  greek duo clear dope case sprinter kosta kente...   \n",
       "996       graphics_83.txt  7 best free tool allow creat profession graphi...   \n",
       "997  entertainment_86.txt  hundr vie best film oscar total 267 film elig ...   \n",
       "998      historical_8.txt  hitler secretli met japanes gener wwii tomoyuk...   \n",
       "999        graphics_2.txt  craft compel market strategi without hire desi...   \n",
       "\n",
       "     Class  \n",
       "0        1  \n",
       "1        1  \n",
       "2        5  \n",
       "3        9  \n",
       "4        1  \n",
       "..     ...  \n",
       "995      8  \n",
       "996      3  \n",
       "997      1  \n",
       "998      4  \n",
       "999      3  \n",
       "\n",
       "[1000 rows x 3 columns]"
      ]
     },
     "execution_count": 12,
     "metadata": {},
     "output_type": "execute_result"
    }
   ],
   "source": [
    "# Mélanger les lignes \n",
    "df_s = df.sample(frac = 1, ignore_index = True)\n",
    "X = df_s['Document']\n",
    "y = df_s['Class']\n",
    "df_s"
   ]
  },
  {
   "cell_type": "markdown",
   "id": "0c77077a",
   "metadata": {},
   "source": [
    "## Division du data set en 2 parties (80%-20%)"
   ]
  },
  {
   "cell_type": "code",
   "execution_count": 13,
   "id": "6c6cccb9",
   "metadata": {},
   "outputs": [
    {
     "name": "stdout",
     "output_type": "stream",
     "text": [
      "[20, 20, 20, 20, 20, 20, 20, 20, 20, 20]\n"
     ]
    }
   ],
   "source": [
    "#split test train 80%: train, 20% : test \n",
    "X_train = []\n",
    "y_train = []\n",
    "X_test = []\n",
    "y_test = []\n",
    "classTest = [0]*len(classesList)\n",
    "for i in range (len(y)):\n",
    "    if classTest[y[i]] < 20:\n",
    "        X_test.append(X[i])\n",
    "        y_test.append(y[i])\n",
    "        classTest[y[i]] += 1\n",
    "    else:\n",
    "        X_train.append(X[i])\n",
    "        y_train.append(y[i])\n",
    "print(classTest)"
   ]
  },
  {
   "cell_type": "markdown",
   "id": "a6ffc81f",
   "metadata": {},
   "source": [
    "# Vectorisation des documents"
   ]
  },
  {
   "cell_type": "code",
   "execution_count": 14,
   "id": "3b731091",
   "metadata": {},
   "outputs": [],
   "source": [
    "from tensorflow.keras.preprocessing.text import Tokenizer\n",
    "from tensorflow.keras.preprocessing.sequence import pad_sequences\n",
    "from tensorflow.keras.wrappers.scikit_learn import KerasClassifier\n",
    "\n",
    "\n",
    "\n",
    "tokenizer = Tokenizer(num_words=5000)\n",
    "tokenizer.fit_on_texts(X_train)\n",
    "\n",
    "X_train = tokenizer.texts_to_sequences(X_train)\n",
    "X_test = tokenizer.texts_to_sequences(X_test)\n",
    "\n",
    "vocab_size = len(tokenizer.word_index) + 1"
   ]
  },
  {
   "cell_type": "code",
   "execution_count": 15,
   "id": "c6737386",
   "metadata": {},
   "outputs": [],
   "source": [
    "maxlen = 100\n",
    "\n",
    "X_train = pad_sequences(X_train, padding='post', maxlen=maxlen)\n",
    "X_test = pad_sequences(X_test, padding='post', maxlen=maxlen)\n",
    "\n",
    "X_train = np.asarray(X_train)\n",
    "y_train = np.asarray(y_train)\n",
    "X_test = np.asarray(X_test)\n",
    "y_test = np.asarray(y_test)"
   ]
  },
  {
   "cell_type": "markdown",
   "id": "8ef0aae7",
   "metadata": {},
   "source": [
    "# Création du modèle"
   ]
  },
  {
   "cell_type": "code",
   "execution_count": 36,
   "id": "90f65b08",
   "metadata": {},
   "outputs": [],
   "source": [
    "import tensorflow.keras\n",
    "import tensorflow as tf\n",
    "from tensorflow.keras import layers\n",
    "from tensorflow.keras.models import Sequential\n",
    "from tensorflow.keras.layers import Dense\n",
    "\n",
    "embedding_dim = 50\n",
    "input_shape = X_train.shape[1]\n",
    "model = Sequential()\n",
    "model.add(layers.Embedding(input_dim=vocab_size, output_dim=embedding_dim, input_length=maxlen))\n",
    "model.add(layers.Flatten())\n",
    "model.add(layers.Dense(64, input_dim=input_shape, activation='relu'))\n",
    "model.add(layers.Dense(32, activation='relu'))\n",
    "model.add(layers.Dense(10, activation='softmax'))\n",
    "model.compile(optimizer='adam',loss='sparse_categorical_crossentropy',metrics=['accuracy'])"
   ]
  },
  {
   "cell_type": "code",
   "execution_count": 24,
   "id": "fc9369b0",
   "metadata": {},
   "outputs": [
    {
     "name": "stdout",
     "output_type": "stream",
     "text": [
      "Model: \"sequential_3\"\n",
      "_________________________________________________________________\n",
      " Layer (type)                Output Shape              Param #   \n",
      "=================================================================\n",
      " embedding_3 (Embedding)     (None, 100, 50)           870700    \n",
      "                                                                 \n",
      " flatten_3 (Flatten)         (None, 5000)              0         \n",
      "                                                                 \n",
      " dense_7 (Dense)             (None, 64)                320064    \n",
      "                                                                 \n",
      " dense_8 (Dense)             (None, 32)                2080      \n",
      "                                                                 \n",
      " dense_9 (Dense)             (None, 10)                330       \n",
      "                                                                 \n",
      "=================================================================\n",
      "Total params: 1,193,174\n",
      "Trainable params: 1,193,174\n",
      "Non-trainable params: 0\n",
      "_________________________________________________________________\n"
     ]
    }
   ],
   "source": [
    "model.summary()"
   ]
  },
  {
   "cell_type": "markdown",
   "id": "f039f69c",
   "metadata": {},
   "source": [
    "# Entrainement"
   ]
  },
  {
   "cell_type": "code",
   "execution_count": 37,
   "id": "35da1614",
   "metadata": {},
   "outputs": [
    {
     "name": "stdout",
     "output_type": "stream",
     "text": [
      "Epoch 1/5\n",
      "160/160 [==============================] - 3s 16ms/step - loss: 2.2012 - accuracy: 0.1562 - val_loss: 2.0383 - val_accuracy: 0.2650\n",
      "Epoch 2/5\n",
      "160/160 [==============================] - 2s 15ms/step - loss: 0.9736 - accuracy: 0.7663 - val_loss: 0.6299 - val_accuracy: 0.8300\n",
      "Epoch 3/5\n",
      "160/160 [==============================] - 2s 15ms/step - loss: 0.0466 - accuracy: 0.9937 - val_loss: 0.5172 - val_accuracy: 0.8300\n",
      "Epoch 4/5\n",
      "160/160 [==============================] - 2s 15ms/step - loss: 0.0064 - accuracy: 1.0000 - val_loss: 0.4934 - val_accuracy: 0.8350\n",
      "Epoch 5/5\n",
      "160/160 [==============================] - 2s 15ms/step - loss: 0.0030 - accuracy: 1.0000 - val_loss: 0.4301 - val_accuracy: 0.8750\n"
     ]
    }
   ],
   "source": [
    "history = model.fit(X_train, y_train,\n",
    "                    epochs=5,\n",
    "                    verbose=True,\n",
    "                    validation_data=(X_test, y_test),\n",
    "                    batch_size=5)"
   ]
  },
  {
   "cell_type": "markdown",
   "id": "ba3d030a",
   "metadata": {},
   "source": [
    "# Visualisation des résultats"
   ]
  },
  {
   "cell_type": "code",
   "execution_count": 31,
   "id": "7a4fd8c2",
   "metadata": {},
   "outputs": [],
   "source": [
    "import matplotlib.pyplot as plt\n",
    "\n",
    "def plot_history(history):\n",
    "    acc = history.history['accuracy']\n",
    "    val_acc = history.history['val_accuracy']\n",
    "    loss = history.history['loss']\n",
    "    val_loss = history.history['val_loss']\n",
    "    x = range(1, len(acc) + 1)\n",
    "\n",
    "    plt.figure(figsize=(12, 5))\n",
    "    plt.subplot(1, 2, 1)\n",
    "    plt.plot(x, acc, 'b', label='Training acc')\n",
    "    plt.plot(x, val_acc, 'r', label='Validation acc')\n",
    "    plt.title('Training and validation accuracy')\n",
    "    plt.legend()\n",
    "    plt.subplot(1, 2, 2)\n",
    "    plt.plot(x, loss, 'b', label='Training loss')\n",
    "    plt.plot(x, val_loss, 'r', label='Validation loss')\n",
    "    plt.title('Training and validation loss')\n",
    "    plt.legend()"
   ]
  },
  {
   "cell_type": "code",
   "execution_count": 38,
   "id": "2555d371",
   "metadata": {},
   "outputs": [
    {
     "data": {
      "image/png": "[encoded data removed]",
      "text/plain": [
       "<Figure size 864x360 with 2 Axes>"
      ]
     },
     "metadata": {
      "needs_background": "light"
     },
     "output_type": "display_data"
    }
   ],
   "source": [
    "plot_history(history)"
   ]
  },
  {
   "cell_type": "code",
   "execution_count": null,
   "id": "f63d0b9d",
   "metadata": {},
   "outputs": [],
   "source": []
  }
 ],
 "metadata": {
  "kernelspec": {
   "display_name": "Python 3 (ipykernel)",
   "language": "python",
   "name": "python3"
  },
  "language_info": {
   "codemirror_mode": {
    "name": "ipython",
    "version": 3
   },
   "file_extension": ".py",
   "mimetype": "text/x-python",
   "name": "python",
   "nbconvert_exporter": "python",
   "pygments_lexer": "ipython3",
   "version": "3.9.7"
  }
 },
 "nbformat": 4,
 "nbformat_minor": 5
}
