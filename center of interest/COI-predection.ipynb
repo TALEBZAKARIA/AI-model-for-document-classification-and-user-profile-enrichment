{
 "cells": [
  {
   "cell_type": "markdown",
   "id": "225c6e80",
   "metadata": {},
   "source": [
    "# Récupération des données"
   ]
  },
  {
   "cell_type": "code",
   "execution_count": 1,
   "id": "0f190690",
   "metadata": {},
   "outputs": [],
   "source": [
    "import numpy as np\n",
    "import pandas as pd\n",
    "\n",
    "data = pd.read_csv(\"dataset.csv\")"
   ]
  },
  {
   "cell_type": "code",
   "execution_count": 2,
   "id": "5ab3dd4c",
   "metadata": {},
   "outputs": [
    {
     "data": {
      "text/html": [
       "<div>\n",
       "<style scoped>\n",
       "    .dataframe tbody tr th:only-of-type {\n",
       "        vertical-align: middle;\n",
       "    }\n",
       "\n",
       "    .dataframe tbody tr th {\n",
       "        vertical-align: top;\n",
       "    }\n",
       "\n",
       "    .dataframe thead th {\n",
       "        text-align: right;\n",
       "    }\n",
       "</style>\n",
       "<table border=\"1\" class=\"dataframe\">\n",
       "  <thead>\n",
       "    <tr style=\"text-align: right;\">\n",
       "      <th></th>\n",
       "      <th>RowNumber</th>\n",
       "      <th>id_user</th>\n",
       "      <th>Surname</th>\n",
       "      <th>Geography</th>\n",
       "      <th>Gender</th>\n",
       "      <th>Age</th>\n",
       "      <th>field</th>\n",
       "      <th>Salary</th>\n",
       "      <th>center of interest</th>\n",
       "    </tr>\n",
       "  </thead>\n",
       "  <tbody>\n",
       "    <tr>\n",
       "      <th>0</th>\n",
       "      <td>1</td>\n",
       "      <td>15634602</td>\n",
       "      <td>Hargrave</td>\n",
       "      <td>France</td>\n",
       "      <td>Female</td>\n",
       "      <td>42</td>\n",
       "      <td>graphics</td>\n",
       "      <td>101348.88</td>\n",
       "      <td>Photo-editor</td>\n",
       "    </tr>\n",
       "    <tr>\n",
       "      <th>1</th>\n",
       "      <td>2</td>\n",
       "      <td>15647311</td>\n",
       "      <td>Hill</td>\n",
       "      <td>Spain</td>\n",
       "      <td>Female</td>\n",
       "      <td>41</td>\n",
       "      <td>sport</td>\n",
       "      <td>112542.58</td>\n",
       "      <td>arbitrator</td>\n",
       "    </tr>\n",
       "    <tr>\n",
       "      <th>2</th>\n",
       "      <td>3</td>\n",
       "      <td>15619304</td>\n",
       "      <td>Onio</td>\n",
       "      <td>France</td>\n",
       "      <td>Female</td>\n",
       "      <td>42</td>\n",
       "      <td>sport</td>\n",
       "      <td>113931.57</td>\n",
       "      <td>arbitrator</td>\n",
       "    </tr>\n",
       "    <tr>\n",
       "      <th>3</th>\n",
       "      <td>4</td>\n",
       "      <td>15701354</td>\n",
       "      <td>Boni</td>\n",
       "      <td>France</td>\n",
       "      <td>Female</td>\n",
       "      <td>39</td>\n",
       "      <td>graphics</td>\n",
       "      <td>93826.63</td>\n",
       "      <td>Apparel-graphic-designer</td>\n",
       "    </tr>\n",
       "    <tr>\n",
       "      <th>4</th>\n",
       "      <td>5</td>\n",
       "      <td>15737888</td>\n",
       "      <td>Mitchell</td>\n",
       "      <td>Spain</td>\n",
       "      <td>Female</td>\n",
       "      <td>43</td>\n",
       "      <td>space</td>\n",
       "      <td>79084.10</td>\n",
       "      <td>aerospace-engineer</td>\n",
       "    </tr>\n",
       "    <tr>\n",
       "      <th>...</th>\n",
       "      <td>...</td>\n",
       "      <td>...</td>\n",
       "      <td>...</td>\n",
       "      <td>...</td>\n",
       "      <td>...</td>\n",
       "      <td>...</td>\n",
       "      <td>...</td>\n",
       "      <td>...</td>\n",
       "      <td>...</td>\n",
       "    </tr>\n",
       "    <tr>\n",
       "      <th>9995</th>\n",
       "      <td>9996</td>\n",
       "      <td>15606229</td>\n",
       "      <td>Obijiaku</td>\n",
       "      <td>France</td>\n",
       "      <td>Male</td>\n",
       "      <td>39</td>\n",
       "      <td>tech</td>\n",
       "      <td>96270.64</td>\n",
       "      <td>automation engineer</td>\n",
       "    </tr>\n",
       "    <tr>\n",
       "      <th>9996</th>\n",
       "      <td>9997</td>\n",
       "      <td>15569892</td>\n",
       "      <td>Johnstone</td>\n",
       "      <td>France</td>\n",
       "      <td>Male</td>\n",
       "      <td>35</td>\n",
       "      <td>tech</td>\n",
       "      <td>101699.77</td>\n",
       "      <td>computer scientist</td>\n",
       "    </tr>\n",
       "    <tr>\n",
       "      <th>9997</th>\n",
       "      <td>9998</td>\n",
       "      <td>15584532</td>\n",
       "      <td>Liu</td>\n",
       "      <td>France</td>\n",
       "      <td>Female</td>\n",
       "      <td>36</td>\n",
       "      <td>Entraitement</td>\n",
       "      <td>42085.58</td>\n",
       "      <td>singer</td>\n",
       "    </tr>\n",
       "    <tr>\n",
       "      <th>9998</th>\n",
       "      <td>9999</td>\n",
       "      <td>15682355</td>\n",
       "      <td>Sabbatini</td>\n",
       "      <td>Germany</td>\n",
       "      <td>Male</td>\n",
       "      <td>42</td>\n",
       "      <td>tech</td>\n",
       "      <td>92888.52</td>\n",
       "      <td>automation engineer</td>\n",
       "    </tr>\n",
       "    <tr>\n",
       "      <th>9999</th>\n",
       "      <td>10000</td>\n",
       "      <td>15628319</td>\n",
       "      <td>Walker</td>\n",
       "      <td>France</td>\n",
       "      <td>Female</td>\n",
       "      <td>28</td>\n",
       "      <td>Entraitement</td>\n",
       "      <td>38190.78</td>\n",
       "      <td>singer</td>\n",
       "    </tr>\n",
       "  </tbody>\n",
       "</table>\n",
       "<p>10000 rows × 9 columns</p>\n",
       "</div>"
      ],
      "text/plain": [
       "      RowNumber   id_user    Surname Geography  Gender  Age         field  \\\n",
       "0             1  15634602   Hargrave    France  Female   42      graphics   \n",
       "1             2  15647311       Hill     Spain  Female   41         sport   \n",
       "2             3  15619304       Onio    France  Female   42         sport   \n",
       "3             4  15701354       Boni    France  Female   39      graphics   \n",
       "4             5  15737888   Mitchell     Spain  Female   43         space   \n",
       "...         ...       ...        ...       ...     ...  ...           ...   \n",
       "9995       9996  15606229   Obijiaku    France    Male   39          tech   \n",
       "9996       9997  15569892  Johnstone    France    Male   35          tech   \n",
       "9997       9998  15584532        Liu    France  Female   36  Entraitement   \n",
       "9998       9999  15682355  Sabbatini   Germany    Male   42          tech   \n",
       "9999      10000  15628319     Walker    France  Female   28  Entraitement   \n",
       "\n",
       "         Salary        center of interest  \n",
       "0     101348.88              Photo-editor  \n",
       "1     112542.58                arbitrator  \n",
       "2     113931.57                arbitrator  \n",
       "3      93826.63  Apparel-graphic-designer  \n",
       "4      79084.10        aerospace-engineer  \n",
       "...         ...                       ...  \n",
       "9995   96270.64       automation engineer  \n",
       "9996  101699.77        computer scientist  \n",
       "9997   42085.58                    singer  \n",
       "9998   92888.52       automation engineer  \n",
       "9999   38190.78                    singer  \n",
       "\n",
       "[10000 rows x 9 columns]"
      ]
     },
     "execution_count": 2,
     "metadata": {},
     "output_type": "execute_result"
    }
   ],
   "source": [
    "data"
   ]
  },
  {
   "cell_type": "markdown",
   "id": "081ee89d",
   "metadata": {},
   "source": [
    "# Elemination des données inutiles"
   ]
  },
  {
   "cell_type": "code",
   "execution_count": 3,
   "id": "c49fec59",
   "metadata": {},
   "outputs": [
    {
     "data": {
      "text/html": [
       "<div>\n",
       "<style scoped>\n",
       "    .dataframe tbody tr th:only-of-type {\n",
       "        vertical-align: middle;\n",
       "    }\n",
       "\n",
       "    .dataframe tbody tr th {\n",
       "        vertical-align: top;\n",
       "    }\n",
       "\n",
       "    .dataframe thead th {\n",
       "        text-align: right;\n",
       "    }\n",
       "</style>\n",
       "<table border=\"1\" class=\"dataframe\">\n",
       "  <thead>\n",
       "    <tr style=\"text-align: right;\">\n",
       "      <th></th>\n",
       "      <th>Geography</th>\n",
       "      <th>Gender</th>\n",
       "      <th>Age</th>\n",
       "      <th>field</th>\n",
       "      <th>Salary</th>\n",
       "      <th>center of interest</th>\n",
       "    </tr>\n",
       "  </thead>\n",
       "  <tbody>\n",
       "    <tr>\n",
       "      <th>0</th>\n",
       "      <td>France</td>\n",
       "      <td>Female</td>\n",
       "      <td>42</td>\n",
       "      <td>graphics</td>\n",
       "      <td>101348.88</td>\n",
       "      <td>Photo-editor</td>\n",
       "    </tr>\n",
       "    <tr>\n",
       "      <th>1</th>\n",
       "      <td>Spain</td>\n",
       "      <td>Female</td>\n",
       "      <td>41</td>\n",
       "      <td>sport</td>\n",
       "      <td>112542.58</td>\n",
       "      <td>arbitrator</td>\n",
       "    </tr>\n",
       "    <tr>\n",
       "      <th>2</th>\n",
       "      <td>France</td>\n",
       "      <td>Female</td>\n",
       "      <td>42</td>\n",
       "      <td>sport</td>\n",
       "      <td>113931.57</td>\n",
       "      <td>arbitrator</td>\n",
       "    </tr>\n",
       "    <tr>\n",
       "      <th>3</th>\n",
       "      <td>France</td>\n",
       "      <td>Female</td>\n",
       "      <td>39</td>\n",
       "      <td>graphics</td>\n",
       "      <td>93826.63</td>\n",
       "      <td>Apparel-graphic-designer</td>\n",
       "    </tr>\n",
       "    <tr>\n",
       "      <th>4</th>\n",
       "      <td>Spain</td>\n",
       "      <td>Female</td>\n",
       "      <td>43</td>\n",
       "      <td>space</td>\n",
       "      <td>79084.10</td>\n",
       "      <td>aerospace-engineer</td>\n",
       "    </tr>\n",
       "    <tr>\n",
       "      <th>...</th>\n",
       "      <td>...</td>\n",
       "      <td>...</td>\n",
       "      <td>...</td>\n",
       "      <td>...</td>\n",
       "      <td>...</td>\n",
       "      <td>...</td>\n",
       "    </tr>\n",
       "    <tr>\n",
       "      <th>9995</th>\n",
       "      <td>France</td>\n",
       "      <td>Male</td>\n",
       "      <td>39</td>\n",
       "      <td>tech</td>\n",
       "      <td>96270.64</td>\n",
       "      <td>automation engineer</td>\n",
       "    </tr>\n",
       "    <tr>\n",
       "      <th>9996</th>\n",
       "      <td>France</td>\n",
       "      <td>Male</td>\n",
       "      <td>35</td>\n",
       "      <td>tech</td>\n",
       "      <td>101699.77</td>\n",
       "      <td>computer scientist</td>\n",
       "    </tr>\n",
       "    <tr>\n",
       "      <th>9997</th>\n",
       "      <td>France</td>\n",
       "      <td>Female</td>\n",
       "      <td>36</td>\n",
       "      <td>Entraitement</td>\n",
       "      <td>42085.58</td>\n",
       "      <td>singer</td>\n",
       "    </tr>\n",
       "    <tr>\n",
       "      <th>9998</th>\n",
       "      <td>Germany</td>\n",
       "      <td>Male</td>\n",
       "      <td>42</td>\n",
       "      <td>tech</td>\n",
       "      <td>92888.52</td>\n",
       "      <td>automation engineer</td>\n",
       "    </tr>\n",
       "    <tr>\n",
       "      <th>9999</th>\n",
       "      <td>France</td>\n",
       "      <td>Female</td>\n",
       "      <td>28</td>\n",
       "      <td>Entraitement</td>\n",
       "      <td>38190.78</td>\n",
       "      <td>singer</td>\n",
       "    </tr>\n",
       "  </tbody>\n",
       "</table>\n",
       "<p>10000 rows × 6 columns</p>\n",
       "</div>"
      ],
      "text/plain": [
       "     Geography  Gender  Age         field     Salary        center of interest\n",
       "0       France  Female   42      graphics  101348.88              Photo-editor\n",
       "1        Spain  Female   41         sport  112542.58                arbitrator\n",
       "2       France  Female   42         sport  113931.57                arbitrator\n",
       "3       France  Female   39      graphics   93826.63  Apparel-graphic-designer\n",
       "4        Spain  Female   43         space   79084.10        aerospace-engineer\n",
       "...        ...     ...  ...           ...        ...                       ...\n",
       "9995    France    Male   39          tech   96270.64       automation engineer\n",
       "9996    France    Male   35          tech  101699.77        computer scientist\n",
       "9997    France  Female   36  Entraitement   42085.58                    singer\n",
       "9998   Germany    Male   42          tech   92888.52       automation engineer\n",
       "9999    France  Female   28  Entraitement   38190.78                    singer\n",
       "\n",
       "[10000 rows x 6 columns]"
      ]
     },
     "execution_count": 3,
     "metadata": {},
     "output_type": "execute_result"
    }
   ],
   "source": [
    "data = data.drop(columns=['RowNumber', 'id_user', 'Surname'])\n",
    "data"
   ]
  },
  {
   "cell_type": "markdown",
   "id": "477dc9ad",
   "metadata": {},
   "source": [
    "# Variable dépendante (Centre d'interet)"
   ]
  },
  {
   "cell_type": "code",
   "execution_count": 4,
   "id": "09d409e3",
   "metadata": {},
   "outputs": [
    {
     "name": "stdout",
     "output_type": "stream",
     "text": [
      "les variables indépendantes : \n",
      "      Geography  Gender  Age         field     Salary\n",
      "0       France  Female   42      graphics  101348.88\n",
      "1        Spain  Female   41         sport  112542.58\n",
      "2       France  Female   42         sport  113931.57\n",
      "3       France  Female   39      graphics   93826.63\n",
      "4        Spain  Female   43         space   79084.10\n",
      "...        ...     ...  ...           ...        ...\n",
      "9995    France    Male   39          tech   96270.64\n",
      "9996    France    Male   35          tech  101699.77\n",
      "9997    France  Female   36  Entraitement   42085.58\n",
      "9998   Germany    Male   42          tech   92888.52\n",
      "9999    France  Female   28  Entraitement   38190.78\n",
      "\n",
      "[10000 rows x 5 columns]\n",
      "\n",
      "la variable dépendante : \n",
      "  0                   Photo-editor\n",
      "1                     arbitrator\n",
      "2                     arbitrator\n",
      "3       Apparel-graphic-designer\n",
      "4             aerospace-engineer\n",
      "                  ...           \n",
      "9995         automation engineer\n",
      "9996          computer scientist\n",
      "9997                      singer\n",
      "9998         automation engineer\n",
      "9999                      singer\n",
      "Name: center of interest, Length: 10000, dtype: object\n"
     ]
    }
   ],
   "source": [
    "feat = data.copy()\n",
    "lab = feat.pop(\"center of interest\")\n",
    "\n",
    "print(\"les variables indépendantes : \\n\", feat)\n",
    "print(\"\\nla variable dépendante : \\n \", lab)"
   ]
  },
  {
   "cell_type": "markdown",
   "id": "0baf7166",
   "metadata": {},
   "source": [
    "# Création des objets symboliques"
   ]
  },
  {
   "cell_type": "code",
   "execution_count": 5,
   "id": "868777da",
   "metadata": {},
   "outputs": [
    {
     "data": {
      "text/plain": [
       "{'Geography': <KerasTensor: shape=(None, 1) dtype=string (created by layer 'Geography')>,\n",
       " 'Gender': <KerasTensor: shape=(None, 1) dtype=string (created by layer 'Gender')>,\n",
       " 'Age': <KerasTensor: shape=(None, 1) dtype=float32 (created by layer 'Age')>,\n",
       " 'field': <KerasTensor: shape=(None, 1) dtype=string (created by layer 'field')>,\n",
       " 'Salary': <KerasTensor: shape=(None, 1) dtype=float32 (created by layer 'Salary')>}"
      ]
     },
     "execution_count": 5,
     "metadata": {},
     "output_type": "execute_result"
    }
   ],
   "source": [
    "#créer un ensemble d'objets symboliques keras.Input , correspondant aux noms et aux types de données des colonnes CSV\n",
    "\n",
    "import tensorflow as tf\n",
    "\n",
    "inputs = {}\n",
    "\n",
    "for name, column in feat.items():\n",
    "    dtype = column.dtype\n",
    "    if dtype == object:\n",
    "        dtype = tf.string\n",
    "    else:\n",
    "        dtype = tf.float32\n",
    "\n",
    "    inputs[name] = tf.keras.Input(shape=(1,), name=name, dtype=dtype)\n",
    "\n",
    "inputs"
   ]
  },
  {
   "cell_type": "code",
   "execution_count": 19,
   "id": "d7328a20",
   "metadata": {},
   "outputs": [
    {
     "data": {
      "text/plain": [
       "dict_keys(['Geography', 'Gender', 'Age', 'field', 'Salary'])"
      ]
     },
     "execution_count": 19,
     "metadata": {},
     "output_type": "execute_result"
    }
   ],
   "source": [
    "inputs.keys()"
   ]
  },
  {
   "cell_type": "markdown",
   "id": "a33de932",
   "metadata": {},
   "source": [
    "# Concaténation des entrées numériques + normalisation "
   ]
  },
  {
   "cell_type": "code",
   "execution_count": 20,
   "id": "2e19bc32",
   "metadata": {},
   "outputs": [
    {
     "data": {
      "text/plain": [
       "<KerasTensor: shape=(None, 2) dtype=float32 (created by layer 'normalization')>"
      ]
     },
     "execution_count": 20,
     "metadata": {},
     "output_type": "execute_result"
    }
   ],
   "source": [
    "#La première étape de votre logique de prétraitement consiste à concaténer \n",
    "#   les entrées numériques et à les faire passer par une couche de normalisation \n",
    "from tensorflow.keras import layers\n",
    "\n",
    "numeric_inputs = {name:input for name,input in inputs.items()\n",
    "                  if input.dtype==tf.float32}\n",
    "\n",
    "x = layers.Concatenate()(list(numeric_inputs.values()))\n",
    "norm = layers.Normalization()\n",
    "norm.adapt(np.array(data[numeric_inputs.keys()]))\n",
    "all_numeric_inputs = norm(x)\n",
    "\n",
    "all_numeric_inputs"
   ]
  },
  {
   "cell_type": "markdown",
   "id": "65a201cc",
   "metadata": {},
   "source": [
    "# Collecte des résultats"
   ]
  },
  {
   "cell_type": "code",
   "execution_count": 23,
   "id": "e9780116",
   "metadata": {},
   "outputs": [],
   "source": [
    "preprocessed_inputs = [all_numeric_inputs]"
   ]
  },
  {
   "cell_type": "markdown",
   "id": "6932d72d",
   "metadata": {},
   "source": [
    "# Convertion des données en veteurs des float"
   ]
  },
  {
   "cell_type": "code",
   "execution_count": 31,
   "id": "a42e45f1",
   "metadata": {},
   "outputs": [
    {
     "name": "stdout",
     "output_type": "stream",
     "text": [
      "WARNING:tensorflow:vocab_size is deprecated, please use vocabulary_size.\n",
      "WARNING:tensorflow:max_tokens is deprecated, please use num_tokens instead.\n",
      "WARNING:tensorflow:vocab_size is deprecated, please use vocabulary_size.\n",
      "WARNING:tensorflow:max_tokens is deprecated, please use num_tokens instead.\n",
      "WARNING:tensorflow:vocab_size is deprecated, please use vocabulary_size.\n",
      "WARNING:tensorflow:max_tokens is deprecated, please use num_tokens instead.\n"
     ]
    }
   ],
   "source": [
    "# tf.keras.layers.StringLookup pour mapper des chaînes à des indices entiers dans un vocabulaire.\n",
    "#tf.keras.layers.CategoryEncoding pour convertir les index en données float32 appropriées pour le modèle\n",
    "for name, input in inputs.items():\n",
    "    if input.dtype == tf.float32:\n",
    "         continue\n",
    "\n",
    "    lookup = layers.StringLookup(vocabulary=np.unique(feat[name]))\n",
    "    one_hot = layers.CategoryEncoding(max_tokens=lookup.vocab_size())\n",
    "\n",
    "    x = lookup(input)\n",
    "    x = one_hot(x)\n",
    "    preprocessed_inputs.append(x)\n"
   ]
  },
  {
   "cell_type": "markdown",
   "id": "e827a09e",
   "metadata": {},
   "source": [
    "# concaténation des entrées prétraitée"
   ]
  },
  {
   "cell_type": "code",
   "execution_count": 32,
   "id": "946b21f2",
   "metadata": {},
   "outputs": [
    {
     "data": {
      "image/png": "[encoded data removed]",
      "text/plain": [
       "<IPython.core.display.Image object>"
      ]
     },
     "execution_count": 32,
     "metadata": {},
     "output_type": "execute_result"
    }
   ],
   "source": [
    "# concaténer toutes les entrées prétraitées et créer un modèle qui gère le prétraitement\n",
    "preprocessed_inputs_cat = layers.Concatenate()(preprocessed_inputs)\n",
    "\n",
    "# Model regroupe les couches dans un objet avec des fonctions d'apprentissage\n",
    "data_preprocessing = tf.keras.Model(inputs, preprocessed_inputs_cat)\n",
    "\n",
    "tf.keras.utils.plot_model(model = data_preprocessing , rankdir=\"LR\", dpi=72, show_shapes=True)"
   ]
  },
  {
   "cell_type": "code",
   "execution_count": 45,
   "id": "becb66ef",
   "metadata": {},
   "outputs": [
    {
     "data": {
      "text/plain": [
       "dict"
      ]
     },
     "execution_count": 45,
     "metadata": {},
     "output_type": "execute_result"
    }
   ],
   "source": [
    "type(inputs)"
   ]
  },
  {
   "cell_type": "markdown",
   "id": "5003f419",
   "metadata": {},
   "source": [
    "# Conversion des données en dictionnaire"
   ]
  },
  {
   "cell_type": "code",
   "execution_count": 36,
   "id": "820f54e7",
   "metadata": {},
   "outputs": [],
   "source": [
    "# dictionnaire des tableaux multidimensionnels\n",
    "data_dict =  {}\n",
    "data_dict = {name: np.array(value) \n",
    "                         for name, value in data.items()}"
   ]
  },
  {
   "cell_type": "code",
   "execution_count": 37,
   "id": "1de2c6ea",
   "metadata": {},
   "outputs": [
    {
     "name": "stderr",
     "output_type": "stream",
     "text": [
      "C:\\Users\\TALEBZAKARIA\\Anaconda3\\lib\\site-packages\\keras\\engine\\functional.py:637: UserWarning: Input dict contained keys ['center of interest'] which did not match any model input. They will be ignored by the model.\n",
      "  inputs = self._flatten_to_reference_inputs(inputs)\n"
     ]
    },
    {
     "data": {
      "text/plain": [
       "<tf.Tensor: shape=(1, 22), dtype=float32, numpy=\n",
       "array([[0.29351938, 0.02188651, 0.        , 1.        , 0.        ,\n",
       "        0.        , 0.        , 1.        , 0.        , 0.        ,\n",
       "        0.        , 0.        , 0.        , 0.        , 0.        ,\n",
       "        1.        , 0.        , 0.        , 0.        , 0.        ,\n",
       "        0.        , 0.        ]], dtype=float32)>"
      ]
     },
     "execution_count": 37,
     "metadata": {},
     "output_type": "execute_result"
    }
   ],
   "source": [
    "# exemple des caractéristiques numériques et la chaîne one-hots toutes concaténées\n",
    "test_data_dict = {name:values[:1] for name, values in data_dict.items()}\n",
    "data_preprocessing(test_data_dict)"
   ]
  },
  {
   "cell_type": "code",
   "execution_count": null,
   "id": "6e40904f",
   "metadata": {},
   "outputs": [],
   "source": []
  },
  {
   "cell_type": "markdown",
   "id": "1fd73921",
   "metadata": {},
   "source": [
    "# Factorisation des centre d'interet en entiers"
   ]
  },
  {
   "cell_type": "code",
   "execution_count": 38,
   "id": "6058f3d8",
   "metadata": {},
   "outputs": [
    {
     "name": "stdout",
     "output_type": "stream",
     "text": [
      "les centres d'interets : \n",
      " 0                   Photo-editor\n",
      "1                     arbitrator\n",
      "2                     arbitrator\n",
      "3       Apparel-graphic-designer\n",
      "4             aerospace-engineer\n",
      "                  ...           \n",
      "9995         automation engineer\n",
      "9996          computer scientist\n",
      "9997                      singer\n",
      "9998         automation engineer\n",
      "9999                      singer\n",
      "Name: center of interest, Length: 10000, dtype: object\n",
      "\n",
      "\n",
      "\n",
      "le nombre total des nouveaux centre d'interet :  29\n",
      "\n",
      "\n",
      "\n",
      "les classes après la représentation numériques :  [ 0  1  1 ... 15 14 15]\n"
     ]
    }
   ],
   "source": [
    "print(\"les centres d'interets : \\n\",lab)\n",
    "\n",
    "classes_numb = len(lab.unique())\n",
    "print(\"\\n\\n\\nle nombre total des nouveaux centre d'interet : \", classes_numb)\n",
    "\n",
    "lab1 = pd.factorize(lab)[0]\n",
    "print(\"\\n\\n\\nles classes après la représentation numériques : \", lab1)"
   ]
  },
  {
   "cell_type": "markdown",
   "id": "a5a7663d",
   "metadata": {},
   "source": [
    "# Dévision des données en train/test"
   ]
  },
  {
   "cell_type": "code",
   "execution_count": 39,
   "id": "effb6484",
   "metadata": {},
   "outputs": [
    {
     "name": "stdout",
     "output_type": "stream",
     "text": [
      "10000\n",
      "8000\n",
      "2000\n",
      "8000\n",
      "2000\n"
     ]
    }
   ],
   "source": [
    "X_train1 = data_dict['Geography'][:8000]\n",
    "X_test1 = data_dict['Geography'][8000:]\n",
    "\n",
    "X_train2 = data_dict['Gender'][:8000]\n",
    "X_test2 = data_dict['Gender'][8000:]\n",
    "\n",
    "X_train3 = data_dict['Age'][:8000]\n",
    "X_test3 = data_dict['Age'][8000:]\n",
    "\n",
    "X_train4 = data_dict['field'][:8000]\n",
    "X_test4 = data_dict['field'][8000:]\n",
    "\n",
    "X_train5 = data_dict['Salary'][:8000]\n",
    "X_test5 = data_dict['Salary'][8000:]\n",
    "\n",
    "X_train6 = data_dict['center of interest'][:8000]\n",
    "X_test6 = data_dict['center of interest'][8000:]\n",
    "\n",
    "X_train = {'Geography' : X_train1, 'Gender' : X_train2,\n",
    "          'Age' : X_train3, 'field' : X_train4, \n",
    "          'Salary' : X_train5, 'center of interest' : X_train6}\n",
    "\n",
    "X_test = {'Geography' : X_test1, 'Gender' : X_test2,\n",
    "          'Age' : X_test3, 'field' : X_test4, \n",
    "          'Salary' : X_test5, 'center of interest' : X_test6}\n",
    "\n",
    "y_train = lab1[:8000]\n",
    "y_test = lab1[8000:]\n",
    "\n",
    "print(len(data_dict['Geography']))\n",
    "print(len(X_train['Geography']))\n",
    "print(len(X_test['Geography']))\n",
    "print(len(y_train))\n",
    "print(len(y_test))"
   ]
  },
  {
   "cell_type": "markdown",
   "id": "669a1042",
   "metadata": {},
   "source": [
    "# Construction du modèle"
   ]
  },
  {
   "cell_type": "code",
   "execution_count": 40,
   "id": "c2b237d9",
   "metadata": {},
   "outputs": [],
   "source": [
    "from tensorflow.keras import layers\n",
    "from tensorflow.keras.models import Sequential\n",
    "from tensorflow.keras.layers import Dense\n",
    "\n",
    "def our_model(preprocessing_head, inputs):\n",
    "    body = tf.keras.Sequential([\n",
    "        layers.Dense(1024, activation='relu'),\n",
    "        layers.Dense(512, activation='relu'),\n",
    "        layers.Dense(128, activation='relu'),\n",
    "        layers.Dropout(0.4),\n",
    "        layers.Dense(64, activation='relu'),\n",
    "        layers.Dense(classes_numb, activation='softmax')\n",
    "    ])\n",
    "\n",
    "    preprocessed_inputs = preprocessing_head(inputs)\n",
    "    result = body(preprocessed_inputs)\n",
    "    model = tf.keras.Model(inputs, result)\n",
    "\n",
    "    model.compile(optimizer='adamax',loss='sparse_categorical_crossentropy',metrics=['accuracy'])\n",
    "    return model\n",
    "\n",
    "our_model = our_model(data_preprocessing, inputs)"
   ]
  },
  {
   "cell_type": "code",
   "execution_count": 44,
   "id": "16a1982a",
   "metadata": {},
   "outputs": [
    {
     "name": "stdout",
     "output_type": "stream",
     "text": [
      "Model: \"model_1\"\n",
      "__________________________________________________________________________________________________\n",
      " Layer (type)                   Output Shape         Param #     Connected to                     \n",
      "==================================================================================================\n",
      " Age (InputLayer)               [(None, 1)]          0           []                               \n",
      "                                                                                                  \n",
      " Gender (InputLayer)            [(None, 1)]          0           []                               \n",
      "                                                                                                  \n",
      " Geography (InputLayer)         [(None, 1)]          0           []                               \n",
      "                                                                                                  \n",
      " Salary (InputLayer)            [(None, 1)]          0           []                               \n",
      "                                                                                                  \n",
      " field (InputLayer)             [(None, 1)]          0           []                               \n",
      "                                                                                                  \n",
      " model (Functional)             (None, 22)           5           ['Age[0][0]',                    \n",
      "                                                                  'Gender[0][0]',                 \n",
      "                                                                  'Geography[0][0]',              \n",
      "                                                                  'Salary[0][0]',                 \n",
      "                                                                  'field[0][0]']                  \n",
      "                                                                                                  \n",
      " sequential (Sequential)        (None, 29)           624157      ['model[0][0]']                  \n",
      "                                                                                                  \n",
      "==================================================================================================\n",
      "Total params: 624,162\n",
      "Trainable params: 624,157\n",
      "Non-trainable params: 5\n",
      "__________________________________________________________________________________________________\n"
     ]
    }
   ],
   "source": [
    "our_model.summary()"
   ]
  },
  {
   "cell_type": "markdown",
   "id": "3276c905",
   "metadata": {},
   "source": [
    "# Entrainement du modèle"
   ]
  },
  {
   "cell_type": "code",
   "execution_count": 45,
   "id": "fe2fff38",
   "metadata": {},
   "outputs": [
    {
     "name": "stdout",
     "output_type": "stream",
     "text": [
      "Epoch 1/15\n",
      "250/250 [==============================] - 3s 9ms/step - loss: 1.5920 - accuracy: 0.5024 - val_loss: 1.0118 - val_accuracy: 0.6495\n",
      "Epoch 2/15\n",
      "250/250 [==============================] - 2s 8ms/step - loss: 0.7446 - accuracy: 0.6779 - val_loss: 0.8874 - val_accuracy: 0.7455\n",
      "Epoch 3/15\n",
      "250/250 [==============================] - 2s 8ms/step - loss: 0.5720 - accuracy: 0.7451 - val_loss: 0.8437 - val_accuracy: 0.7735\n",
      "Epoch 4/15\n",
      "250/250 [==============================] - 2s 9ms/step - loss: 0.4921 - accuracy: 0.7801 - val_loss: 0.8848 - val_accuracy: 0.7580\n",
      "Epoch 5/15\n",
      "250/250 [==============================] - 2s 9ms/step - loss: 0.4380 - accuracy: 0.8018 - val_loss: 0.7865 - val_accuracy: 0.7935\n",
      "Epoch 6/15\n",
      "250/250 [==============================] - 2s 8ms/step - loss: 0.4028 - accuracy: 0.8164 - val_loss: 0.8485 - val_accuracy: 0.7990\n",
      "Epoch 7/15\n",
      "250/250 [==============================] - 2s 8ms/step - loss: 0.3770 - accuracy: 0.8269 - val_loss: 0.8364 - val_accuracy: 0.7660\n",
      "Epoch 8/15\n",
      "250/250 [==============================] - 2s 8ms/step - loss: 0.3605 - accuracy: 0.8397 - val_loss: 0.8680 - val_accuracy: 0.8075\n",
      "Epoch 9/15\n",
      "250/250 [==============================] - 2s 8ms/step - loss: 0.3386 - accuracy: 0.8496 - val_loss: 0.8741 - val_accuracy: 0.8100\n",
      "Epoch 10/15\n",
      "250/250 [==============================] - 2s 8ms/step - loss: 0.3155 - accuracy: 0.8597 - val_loss: 0.8814 - val_accuracy: 0.8235\n",
      "Epoch 11/15\n",
      "250/250 [==============================] - 2s 9ms/step - loss: 0.3033 - accuracy: 0.8640 - val_loss: 0.9313 - val_accuracy: 0.8090\n",
      "Epoch 12/15\n",
      "250/250 [==============================] - 2s 9ms/step - loss: 0.2904 - accuracy: 0.8729 - val_loss: 0.9977 - val_accuracy: 0.8060\n",
      "Epoch 13/15\n",
      "250/250 [==============================] - 2s 8ms/step - loss: 0.2793 - accuracy: 0.8740 - val_loss: 0.9595 - val_accuracy: 0.8550\n",
      "Epoch 14/15\n",
      "250/250 [==============================] - 2s 9ms/step - loss: 0.2702 - accuracy: 0.8764 - val_loss: 0.9935 - val_accuracy: 0.8215\n",
      "Epoch 15/15\n",
      "250/250 [==============================] - 2s 8ms/step - loss: 0.2563 - accuracy: 0.8839 - val_loss: 1.0571 - val_accuracy: 0.8325\n"
     ]
    }
   ],
   "source": [
    "history = our_model.fit(X_train, y_train, validation_data=(X_test, y_test), verbose=True, epochs=15)"
   ]
  },
  {
   "cell_type": "markdown",
   "id": "00a0b560",
   "metadata": {},
   "source": [
    "# Visualisation des résultats"
   ]
  },
  {
   "cell_type": "code",
   "execution_count": 46,
   "id": "b6dd04fc",
   "metadata": {},
   "outputs": [],
   "source": [
    "import matplotlib.pyplot as plt\n",
    "\n",
    "def plot_history(history):\n",
    "    acc = history.history['accuracy']\n",
    "    val_acc = history.history['val_accuracy']\n",
    "    loss = history.history['loss']\n",
    "    val_loss = history.history['val_loss']\n",
    "    x = range(1, len(acc) + 1)\n",
    "\n",
    "    plt.figure(figsize=(12, 5))\n",
    "    plt.subplot(1, 2, 1)\n",
    "    plt.plot(x, acc, 'b', label='Training acc')\n",
    "    plt.plot(x, val_acc, 'r', label='Validation acc')\n",
    "    plt.title('Training and validation accuracy')\n",
    "    plt.legend()\n",
    "    plt.subplot(1, 2, 2)\n",
    "    plt.plot(x, loss, 'b', label='Training loss')\n",
    "    plt.plot(x, val_loss, 'r', label='Validation loss')\n",
    "    plt.title('Training and validation loss')\n",
    "    plt.legend()"
   ]
  },
  {
   "cell_type": "code",
   "execution_count": 47,
   "id": "72bb472e",
   "metadata": {},
   "outputs": [
    {
     "data": {
      "image/png": "[encoded data removed]",
      "text/plain": [
       "<Figure size 864x360 with 2 Axes>"
      ]
     },
     "metadata": {
      "needs_background": "light"
     },
     "output_type": "display_data"
    }
   ],
   "source": [
    "plot_history(history)"
   ]
  }
 ],
 "metadata": {
  "kernelspec": {
   "display_name": "Python 3 (ipykernel)",
   "language": "python",
   "name": "python3"
  },
  "language_info": {
   "codemirror_mode": {
    "name": "ipython",
    "version": 3
   },
   "file_extension": ".py",
   "mimetype": "text/x-python",
   "name": "python",
   "nbconvert_exporter": "python",
   "pygments_lexer": "ipython3",
   "version": "3.9.7"
  }
 },
 "nbformat": 4,
 "nbformat_minor": 5
}
